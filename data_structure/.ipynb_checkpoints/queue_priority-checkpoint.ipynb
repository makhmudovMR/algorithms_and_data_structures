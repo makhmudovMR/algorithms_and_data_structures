{
 "cells": [
  {
   "cell_type": "code",
   "execution_count": 11,
   "metadata": {
    "collapsed": true
   },
   "outputs": [],
   "source": [
    "class QueuePriority:\n",
    "    \n",
    "    def __init__(self):\n",
    "        self.queue = []\n",
    "\n",
    "        \n",
    "    def add(self, data, priority=1):\n",
    "        self.queue.insert(0,(data, priority))\n",
    "        if len(self.queue) > 0:\n",
    "            for i in range(len(self.queue)-1):\n",
    "                if self.queue[i][1] > self.queue[i+1][1]:\n",
    "                    self.queue[i], self.queue[i+1] = self.queue[i+1], self.queue[i]\n",
    "                    \n",
    "    def pop(self):\n",
    "        return self.queue.pop()[0]\n",
    "    "
   ]
  },
  {
   "cell_type": "code",
   "execution_count": 12,
   "metadata": {},
   "outputs": [
    {
     "name": "stdout",
     "output_type": "stream",
     "text": [
      "[('cat', 1), ('dog', 1), ('pat', 2)]\n"
     ]
    }
   ],
   "source": [
    "q = QueuePriority()\n",
    "q.add('dog', 1)\n",
    "q.add('cat', 1)\n",
    "q.add('pat', 2)\n",
    "print(q.queue)"
   ]
  },
  {
   "cell_type": "code",
   "execution_count": 13,
   "metadata": {},
   "outputs": [
    {
     "name": "stdout",
     "output_type": "stream",
     "text": [
      "pat\n"
     ]
    }
   ],
   "source": [
    "print(q.pop())"
   ]
  },
  {
   "cell_type": "code",
   "execution_count": null,
   "metadata": {
    "collapsed": true
   },
   "outputs": [],
   "source": []
  }
 ],
 "metadata": {
  "kernelspec": {
   "display_name": "Python 3",
   "language": "python",
   "name": "python3"
  },
  "language_info": {
   "codemirror_mode": {
    "name": "ipython",
    "version": 3
   },
   "file_extension": ".py",
   "mimetype": "text/x-python",
   "name": "python",
   "nbconvert_exporter": "python",
   "pygments_lexer": "ipython3",
   "version": "3.6.3"
  }
 },
 "nbformat": 4,
 "nbformat_minor": 2
}
