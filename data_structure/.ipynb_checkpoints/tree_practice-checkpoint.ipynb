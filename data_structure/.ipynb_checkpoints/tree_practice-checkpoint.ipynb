{
 "cells": [
  {
   "cell_type": "code",
   "execution_count": 3,
   "metadata": {
    "collapsed": true
   },
   "outputs": [],
   "source": [
    "class BinaryTree:\n",
    "    \n",
    "    def __init__(self, r):\n",
    "        self.key = r\n",
    "        self.left = None\n",
    "        self.right = None\n",
    "        \n",
    "    def insertLeft(self, r):\n",
    "        if self.left == None:\n",
    "            self.left = BinaryTree(r)\n",
    "        else:\n",
    "            t = BinaryTree(r)\n",
    "            t.left = self.left\n",
    "            self.left = t\n",
    "    \n",
    "    def insertRight(self, r):\n",
    "        if self.right == None:\n",
    "            self.right = BinaryTree(r)\n",
    "        else:\n",
    "            t = BinaryTree(r)\n",
    "            t.right = self.right\n",
    "            self.right = t\n",
    "    \n",
    "    def getLeft(self):\n",
    "        return self.left\n",
    "    \n",
    "    def getRight(self):\n",
    "        return self.right\n",
    "    \n",
    "    def setRoot(self, r):\n",
    "        self.kee = r\n"
   ]
  },
  {
   "cell_type": "code",
   "execution_count": null,
   "metadata": {},
   "outputs": [],
   "source": []
  },
  {
   "cell_type": "code",
   "execution_count": null,
   "metadata": {
    "collapsed": true
   },
   "outputs": [],
   "source": []
  }
 ],
 "metadata": {
  "kernelspec": {
   "display_name": "Python 3",
   "language": "python",
   "name": "python3"
  },
  "language_info": {
   "codemirror_mode": {
    "name": "ipython",
    "version": 3
   },
   "file_extension": ".py",
   "mimetype": "text/x-python",
   "name": "python",
   "nbconvert_exporter": "python",
   "pygments_lexer": "ipython3",
   "version": "3.6.3"
  }
 },
 "nbformat": 4,
 "nbformat_minor": 2
}
