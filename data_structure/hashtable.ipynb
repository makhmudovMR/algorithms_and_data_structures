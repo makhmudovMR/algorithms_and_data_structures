{
 "cells": [
  {
   "cell_type": "code",
   "execution_count": 112,
   "metadata": {
    "collapsed": true
   },
   "outputs": [],
   "source": [
    "\"\"\"\n",
    "    +-----------------------------------+\n",
    "    | ДУМАТЬ ОБ АЛГОРИТМЕ, А НЕ О КОДЕ! |\n",
    "    +-----------------------------------+\n",
    "\"\"\"\n",
    "\n",
    "class Node:\n",
    "    \n",
    "    def __init__(self, key, data):\n",
    "        self.key = key\n",
    "        self.data = data\n",
    "        self.next = None\n",
    "        \n",
    "    def __str__(self):\n",
    "        string = '< Node: ('\n",
    "        string += str(self.key) + ': ' + str(self.data) + ' -> '\n",
    "        if self.next != None:\n",
    "            while self.next != None:\n",
    "                string += str(self.key) + ': ' + str(self.next.data) + ' -> '\n",
    "                self.next = self.next.next\n",
    "        return string[:-4] + ') >'\n",
    "    \n",
    "    def __repr__(self):\n",
    "        return str(self)\n",
    "        \n",
    "\n",
    "class HashTable:\n",
    "    \n",
    "    def __init__(self):\n",
    "        self.capacity = 55\n",
    "        self.size = 0\n",
    "        self.buckets = [None] * self.capacity\n",
    "        \n",
    "    def hashing(self, key):\n",
    "        hashsum = 0\n",
    "        for idx, c in enumerate(key):\n",
    "            hashsum += (idx + len(key)) ** ord(c)\n",
    "        return hashsum % self.capacity\n",
    "    \n",
    "    def insert(self, key, data):\n",
    "        '''\n",
    "        В худшем случае O(n)\n",
    "        '''\n",
    "        self.size += 1\n",
    "        index = self.hashing(key)\n",
    "        node = self.buckets[index]\n",
    "        if node is None:\n",
    "            self.buckets[index] = Node(key, data)\n",
    "        else:\n",
    "            prev = None\n",
    "            while node.next != None or node.key != key:\n",
    "                prev = node\n",
    "                node = node.next\n",
    "            if prev == None:\n",
    "                new_node = Node(key, data)\n",
    "                new_node.next = node.next\n",
    "                self.buckets[index] = new_node\n",
    "            else:\n",
    "                new_node = Node(key, data)\n",
    "                new_node.next = node.next\n",
    "                prev.next = new_node\n",
    "                \n",
    "                \n",
    "    def remove(self, key):\n",
    "        index = self.hashing(key)\n",
    "        node = self.buckets[index]\n",
    "        prev = None\n",
    "        while node.key != key or node.next != None:\n",
    "            prev = node\n",
    "            node = node.next\n",
    "        if prev != None:\n",
    "            prev.next = node.next\n",
    "        else:\n",
    "            self.buckets[index] = node.next\n",
    "            \n",
    "            \n",
    "                \n",
    "            \n",
    "    def find(self, key):\n",
    "        '''\n",
    "            В худшем случае O(n)\n",
    "        '''\n",
    "        index = self.hashing(key)\n",
    "        node = self.buckets[index]\n",
    "        if node != None:\n",
    "            while node != None:\n",
    "                if node.key == key:\n",
    "                    return node.data\n",
    "                node = node.next\n",
    "        return None\n",
    "    \n",
    "    "
   ]
  },
  {
   "cell_type": "code",
   "execution_count": 115,
   "metadata": {},
   "outputs": [
    {
     "name": "stdout",
     "output_type": "stream",
     "text": [
      "[None, None, None, < Node: (magomed: 88) >, None, None, None, None, None, None, None, None, None, None, None, None, None, None, None, None, None, None, None, None, None, None, None, None, None, < Node: (magomede: 22) >, None, None, None, None, None, None, None, < Node: (magomed_makh: 88) >, None, None, None, None, None, None, None, None, None, None, None, None, None, None, None, None, None]\n",
      "[None, None, None, < Node: (magomed: 88) >, None, None, None, None, None, None, None, None, None, None, None, None, None, None, None, None, None, None, None, None, None, None, None, None, None, < Node: (magomede: 22) >, None, None, None, None, None, None, None, None, None, None, None, None, None, None, None, None, None, None, None, None, None, None, None, None, None]\n"
     ]
    }
   ],
   "source": [
    "table = HashTable()\n",
    "table.insert('magomed', 21)\n",
    "table.insert('magomed', 27)\n",
    "table.insert('magomed', 88)\n",
    "table.insert('magomed_makh', 88)\n",
    "table.insert('magomede', 22)\n",
    "print(table.buckets)\n",
    "table.find('magomed')\n",
    "table.remove('magomed_makh')\n",
    "print(table.buckets)"
   ]
  },
  {
   "cell_type": "code",
   "execution_count": null,
   "metadata": {
    "collapsed": true
   },
   "outputs": [],
   "source": []
  },
  {
   "cell_type": "code",
   "execution_count": null,
   "metadata": {
    "collapsed": true
   },
   "outputs": [],
   "source": []
  }
 ],
 "metadata": {
  "kernelspec": {
   "display_name": "Python 3",
   "language": "python",
   "name": "python3"
  },
  "language_info": {
   "codemirror_mode": {
    "name": "ipython",
    "version": 3
   },
   "file_extension": ".py",
   "mimetype": "text/x-python",
   "name": "python",
   "nbconvert_exporter": "python",
   "pygments_lexer": "ipython3",
   "version": "3.6.3"
  }
 },
 "nbformat": 4,
 "nbformat_minor": 2
}
