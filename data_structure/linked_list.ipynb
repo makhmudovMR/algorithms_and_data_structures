{
 "cells": [
  {
   "cell_type": "code",
   "execution_count": 114,
   "metadata": {
    "collapsed": true
   },
   "outputs": [],
   "source": [
    "class Node:\n",
    "    \n",
    "    def __init__(self, data=None):\n",
    "        self.data = data\n",
    "        self.next = None\n",
    "    \n",
    "class LinkedList:\n",
    "    \n",
    "    def __init__(self):\n",
    "        self.head = Node()\n",
    "    \n",
    "    def append(self, data):\n",
    "        \"\"\"\n",
    "        В худшем случае O(n)\n",
    "        \"\"\"\n",
    "        curr = self.head\n",
    "        while curr.next != None:\n",
    "            curr = curr.next\n",
    "        curr.next = Node(data)\n",
    "        \n",
    "    def length(self):\n",
    "        \"\"\"\n",
    "        В худшем случае O(n)\n",
    "        \"\"\"\n",
    "        count = 0\n",
    "        curr = self.head.next\n",
    "        while curr != None:\n",
    "            curr = curr.next\n",
    "            count+=1\n",
    "        return count\n",
    "    \n",
    "    def display(self):\n",
    "        \"\"\"\n",
    "        В худшем случае O(n)\n",
    "        \"\"\"\n",
    "        res = ''\n",
    "        curr = self.head.next\n",
    "        while curr != None:\n",
    "            res += str(curr.data) + ' -> '\n",
    "            curr = curr.next\n",
    "        res = res[:-4]\n",
    "        return res\n",
    "    \n",
    "    def display2(self):\n",
    "        \"\"\"\n",
    "        В худшем случае O(n)\n",
    "        \"\"\"\n",
    "        tmp = []\n",
    "        curr = self.head.next\n",
    "        while curr != None:\n",
    "            tmp.append(curr.data)\n",
    "            curr = curr.next\n",
    "        return tmp\n",
    "    \n",
    "    \n",
    "    def get(self, index):\n",
    "        \"\"\"\n",
    "        В худшем случае O(n)\n",
    "        \"\"\"\n",
    "        curr = self.head.next\n",
    "        curr_indx = 0\n",
    "        while curr != None:\n",
    "            if curr_indx == index:\n",
    "                return curr.data\n",
    "            curr = curr.next\n",
    "            curr_indx+=1\n",
    "        return None\n",
    "    \n",
    "    def insert(self, index, data):\n",
    "        \"\"\"\n",
    "        В худшем случае O(n)\n",
    "        \"\"\"\n",
    "        curr = self.head.next\n",
    "        prev = self.head\n",
    "        curr_indx = 0\n",
    "        while curr != None:\n",
    "            if curr_indx == index:\n",
    "                prev.next = Node(data)\n",
    "                prev.next.next = curr\n",
    "            prev = curr\n",
    "            curr = curr.next\n",
    "            curr_indx += 1\n",
    "            \n",
    "    def delete(self, index):\n",
    "        \"\"\"\n",
    "        В худшем случае O(n)\n",
    "        \"\"\"\n",
    "        prev = self.head\n",
    "        curr = self.head.next\n",
    "        curr_indx = 0\n",
    "        while curr != None:\n",
    "            if curr_indx == index:\n",
    "                _next = curr.next\n",
    "                prev.next = _next\n",
    "            prev = curr\n",
    "            curr = curr.next\n",
    "            curr_indx +=1\n",
    "            \n",
    "            \n",
    "    def reverse(self):\n",
    "        \"\"\"\n",
    "        В худшем случае O(n)\n",
    "        \"\"\"\n",
    "        prev = None\n",
    "        curr = self.head.next\n",
    "        while curr != None:\n",
    "            print(curr.data)\n",
    "            _next = curr.next\n",
    "            curr.next = prev\n",
    "            prev = curr\n",
    "            curr = _next\n",
    "        self.head.next = prev"
   ]
  },
  {
   "cell_type": "code",
   "execution_count": 115,
   "metadata": {},
   "outputs": [
    {
     "data": {
      "text/plain": [
       "'magomed -> ser -> 5 -> 3 -> 5'"
      ]
     },
     "execution_count": 115,
     "metadata": {},
     "output_type": "execute_result"
    }
   ],
   "source": [
    "linkedlist = LinkedList()\n",
    "linkedlist.length()\n",
    "linkedlist.append('magomed')\n",
    "linkedlist.append('ser')\n",
    "linkedlist.append(5)\n",
    "linkedlist.append(3)\n",
    "linkedlist.append(5)\n",
    "linkedlist.display()"
   ]
  },
  {
   "cell_type": "code",
   "execution_count": 116,
   "metadata": {},
   "outputs": [
    {
     "name": "stdout",
     "output_type": "stream",
     "text": [
      "None\n"
     ]
    }
   ],
   "source": [
    "print(linkedlist.get(10))"
   ]
  },
  {
   "cell_type": "code",
   "execution_count": 117,
   "metadata": {
    "collapsed": true
   },
   "outputs": [],
   "source": [
    "linkedlist.insert(0, 999)"
   ]
  },
  {
   "cell_type": "code",
   "execution_count": 118,
   "metadata": {},
   "outputs": [
    {
     "data": {
      "text/plain": [
       "'999 -> magomed -> ser -> 5 -> 3 -> 5'"
      ]
     },
     "execution_count": 118,
     "metadata": {},
     "output_type": "execute_result"
    }
   ],
   "source": [
    "linkedlist.display()"
   ]
  },
  {
   "cell_type": "code",
   "execution_count": 119,
   "metadata": {},
   "outputs": [],
   "source": [
    "linkedlist.delete(1)"
   ]
  },
  {
   "cell_type": "code",
   "execution_count": 120,
   "metadata": {},
   "outputs": [
    {
     "data": {
      "text/plain": [
       "'999 -> ser -> 5 -> 3 -> 5'"
      ]
     },
     "execution_count": 120,
     "metadata": {},
     "output_type": "execute_result"
    }
   ],
   "source": [
    "linkedlist.display()"
   ]
  },
  {
   "cell_type": "code",
   "execution_count": null,
   "metadata": {
    "collapsed": true
   },
   "outputs": [],
   "source": []
  },
  {
   "cell_type": "code",
   "execution_count": null,
   "metadata": {
    "collapsed": true
   },
   "outputs": [],
   "source": []
  }
 ],
 "metadata": {
  "kernelspec": {
   "display_name": "Python 3",
   "language": "python",
   "name": "python3"
  },
  "language_info": {
   "codemirror_mode": {
    "name": "ipython",
    "version": 3
   },
   "file_extension": ".py",
   "mimetype": "text/x-python",
   "name": "python",
   "nbconvert_exporter": "python",
   "pygments_lexer": "ipython3",
   "version": "3.6.3"
  }
 },
 "nbformat": 4,
 "nbformat_minor": 2
}
